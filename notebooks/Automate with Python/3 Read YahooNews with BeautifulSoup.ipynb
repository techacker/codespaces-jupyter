{
 "cells": [
  {
   "cell_type": "code",
   "execution_count": 2,
   "metadata": {},
   "outputs": [],
   "source": [
    "import pandas as pd\n",
    "from bs4 import BeautifulSoup\n",
    "import requests"
   ]
  },
  {
   "cell_type": "code",
   "execution_count": 3,
   "metadata": {},
   "outputs": [],
   "source": [
    "# Website https://news.yahoo.com/\n",
    "website = 'https://news.yahoo.com/'\n",
    "response = requests.get(website)\n",
    "soup = BeautifulSoup(response.content, 'html.parser')\n",
    "#print(soup)\n"
   ]
  },
  {
   "cell_type": "code",
   "execution_count": 5,
   "metadata": {},
   "outputs": [
    {
     "name": "stdout",
     "output_type": "stream",
     "text": [
      "50\n"
     ]
    }
   ],
   "source": [
    "# Find stories that are on the page\n",
    "stories = soup.findAll('li', class_='stream-item')\n",
    "print(len(stories))"
   ]
  },
  {
   "cell_type": "code",
   "execution_count": 6,
   "metadata": {},
   "outputs": [],
   "source": [
    "# Create empty lists to contain the stories\n",
    "titles = []\n",
    "summaries = []\n",
    "links = []\n",
    "\n",
    "# Loop through stories to get individual story details\n",
    "for story in stories:\n",
    "    title = story.find('h3').text\n",
    "    text = story.find('p').text\n",
    "    linkfetched = story.find('a', href=True)['href'].split('/')[-1]         # Since some links didn't have yahoo.com as part of the url\n",
    "    link = 'https://news.yahoo.com/'+linkfetched\n",
    "\n",
    "    # Fill the respective lists\n",
    "    titles.append(title)\n",
    "    summaries.append(text)\n",
    "    links.append(link)\n",
    "\n",
    "fetchedStories = {'Title': titles, 'Short Story': summaries, 'URL': links}"
   ]
  },
  {
   "cell_type": "code",
   "execution_count": 7,
   "metadata": {},
   "outputs": [
    {
     "data": {
      "text/html": [
       "<div>\n",
       "<style scoped>\n",
       "    .dataframe tbody tr th:only-of-type {\n",
       "        vertical-align: middle;\n",
       "    }\n",
       "\n",
       "    .dataframe tbody tr th {\n",
       "        vertical-align: top;\n",
       "    }\n",
       "\n",
       "    .dataframe thead th {\n",
       "        text-align: right;\n",
       "    }\n",
       "</style>\n",
       "<table border=\"1\" class=\"dataframe\">\n",
       "  <thead>\n",
       "    <tr style=\"text-align: right;\">\n",
       "      <th></th>\n",
       "      <th>Title</th>\n",
       "      <th>Short Story</th>\n",
       "      <th>URL</th>\n",
       "    </tr>\n",
       "  </thead>\n",
       "  <tbody>\n",
       "    <tr>\n",
       "      <th>0</th>\n",
       "      <td>Why the Iowa caucuses are important</td>\n",
       "      <td>Maybe more importantly than whether Iowa picks...</td>\n",
       "      <td>https://news.yahoo.com/why-the-iowa-caucuses-a...</td>\n",
       "    </tr>\n",
       "    <tr>\n",
       "      <th>1</th>\n",
       "      <td>The Epstein list: Bill Clinton and Donald Trum...</td>\n",
       "      <td>Court documents related to the late convicted ...</td>\n",
       "      <td>https://news.yahoo.com/epstein-list-whos-on-it...</td>\n",
       "    </tr>\n",
       "    <tr>\n",
       "      <th>2</th>\n",
       "      <td>Elections 2024: Your guide to all the key date...</td>\n",
       "      <td>It may be hard to believe but the first votes ...</td>\n",
       "      <td>https://news.yahoo.com/elections-2024-guide-ke...</td>\n",
       "    </tr>\n",
       "    <tr>\n",
       "      <th>3</th>\n",
       "      <td>A family missed out on their dream vacation al...</td>\n",
       "      <td>The Burton family missed an eight-day trip to ...</td>\n",
       "      <td>https://news.yahoo.com/family-missed-dream-vac...</td>\n",
       "    </tr>\n",
       "    <tr>\n",
       "      <th>4</th>\n",
       "      <td>The Tech Billionaires Soft-Launching Secession...</td>\n",
       "      <td>It is easy to mock the absurdity of California...</td>\n",
       "      <td>https://news.yahoo.com/tech-billionaires-soft-...</td>\n",
       "    </tr>\n",
       "  </tbody>\n",
       "</table>\n",
       "</div>"
      ],
      "text/plain": [
       "                                               Title  \\\n",
       "0                Why the Iowa caucuses are important   \n",
       "1  The Epstein list: Bill Clinton and Donald Trum...   \n",
       "2  Elections 2024: Your guide to all the key date...   \n",
       "3  A family missed out on their dream vacation al...   \n",
       "4  The Tech Billionaires Soft-Launching Secession...   \n",
       "\n",
       "                                         Short Story  \\\n",
       "0  Maybe more importantly than whether Iowa picks...   \n",
       "1  Court documents related to the late convicted ...   \n",
       "2  It may be hard to believe but the first votes ...   \n",
       "3  The Burton family missed an eight-day trip to ...   \n",
       "4  It is easy to mock the absurdity of California...   \n",
       "\n",
       "                                                 URL  \n",
       "0  https://news.yahoo.com/why-the-iowa-caucuses-a...  \n",
       "1  https://news.yahoo.com/epstein-list-whos-on-it...  \n",
       "2  https://news.yahoo.com/elections-2024-guide-ke...  \n",
       "3  https://news.yahoo.com/family-missed-dream-vac...  \n",
       "4  https://news.yahoo.com/tech-billionaires-soft-...  "
      ]
     },
     "execution_count": 7,
     "metadata": {},
     "output_type": "execute_result"
    }
   ],
   "source": [
    "# Creating the dataframe\n",
    "df = pd.DataFrame(fetchedStories)\n",
    "df.head()"
   ]
  },
  {
   "cell_type": "code",
   "execution_count": 63,
   "metadata": {},
   "outputs": [],
   "source": [
    "# Export to csv\n",
    "df.to_csv('/workspaces/codespaces-jupyter/data/Yahoo News.csv', index=False)"
   ]
  }
 ],
 "metadata": {
  "kernelspec": {
   "display_name": "Python 3",
   "language": "python",
   "name": "python3"
  },
  "language_info": {
   "codemirror_mode": {
    "name": "ipython",
    "version": 3
   },
   "file_extension": ".py",
   "mimetype": "text/x-python",
   "name": "python",
   "nbconvert_exporter": "python",
   "pygments_lexer": "ipython3",
   "version": "3.10.13"
  }
 },
 "nbformat": 4,
 "nbformat_minor": 2
}
