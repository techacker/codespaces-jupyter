{
 "cells": [
  {
   "cell_type": "code",
   "execution_count": 19,
   "metadata": {},
   "outputs": [],
   "source": [
    "import pandas as pd\n",
    "from bs4 import BeautifulSoup\n",
    "import requests"
   ]
  },
  {
   "cell_type": "code",
   "execution_count": 129,
   "metadata": {},
   "outputs": [],
   "source": [
    "url = 'https://www.imdb.com/chart/top/'\n",
    "headers = {'User-Agent':'Mozilla/5.0 (Windows NT 10.0; Win64; x64) AppleWebKit/537.36 (KHTML, like Gecko) Chrome/119.0.0.0 Safari/537.36 Edg/119.0.0.0'}\n",
    "moviesList = []\n",
    "df = pd.DataFrame(columns=['Rank','Name','Release Year','Movie Length','IMDb Rating'])\n",
    "try:\n",
    "    response = requests.get(url, headers=headers)\n",
    "    soup = BeautifulSoup(response.text, 'html.parser')\n",
    "    # Explore by using Inspect on IMDB webpage and find relevant classes\n",
    "    # The complete list of 250 movies are wrapped in class in 'movies' variable. Returns a list.\n",
    "    movies = soup.findAll('li', class_='ipc-metadata-list-summary-item')\n",
    "    # print(len(movies))    Output = 250\n",
    "    # Iterate through 250 items to get each item detail\n",
    "    for movie in movies:\n",
    "        rankAndName = movie.find('h3').text.split('.')\n",
    "        rank = rankAndName[0]\n",
    "        name = rankAndName[1]\n",
    "        # Added split to remove numbers that were present in the text and to keep just the movie name\n",
    "\n",
    "        # Reading Second row for Year, Duration and Rating\n",
    "        yearLenRating = movie.findAll('span', class_='cli-title-metadata-item')\n",
    "        year = yearLenRating[0].text\n",
    "        movieLength = yearLenRating[1].text\n",
    "\n",
    "        # Reading IMDB ratings\n",
    "        imdbRating = movie.find('span', class_='ipc-rating-star').text.split()[0]\n",
    "\n",
    "        # Add all the above data to a DataFrame\n",
    "        df.loc[len(df)] = [rank, name, year, movieLength, imdbRating]\n",
    "except Exception as e:\n",
    "    print(e)"
   ]
  },
  {
   "cell_type": "code",
   "execution_count": 134,
   "metadata": {},
   "outputs": [
    {
     "data": {
      "text/html": [
       "<div>\n",
       "<style scoped>\n",
       "    .dataframe tbody tr th:only-of-type {\n",
       "        vertical-align: middle;\n",
       "    }\n",
       "\n",
       "    .dataframe tbody tr th {\n",
       "        vertical-align: top;\n",
       "    }\n",
       "\n",
       "    .dataframe thead th {\n",
       "        text-align: right;\n",
       "    }\n",
       "</style>\n",
       "<table border=\"1\" class=\"dataframe\">\n",
       "  <thead>\n",
       "    <tr style=\"text-align: right;\">\n",
       "      <th></th>\n",
       "      <th>Rank</th>\n",
       "      <th>Name</th>\n",
       "      <th>Release Year</th>\n",
       "      <th>Movie Length</th>\n",
       "      <th>IMDb Rating</th>\n",
       "    </tr>\n",
       "  </thead>\n",
       "  <tbody>\n",
       "    <tr>\n",
       "      <th>0</th>\n",
       "      <td>1</td>\n",
       "      <td>The Shawshank Redemption</td>\n",
       "      <td>1994</td>\n",
       "      <td>2h 22m</td>\n",
       "      <td>9.3</td>\n",
       "    </tr>\n",
       "    <tr>\n",
       "      <th>1</th>\n",
       "      <td>2</td>\n",
       "      <td>The Godfather</td>\n",
       "      <td>1972</td>\n",
       "      <td>2h 55m</td>\n",
       "      <td>9.2</td>\n",
       "    </tr>\n",
       "    <tr>\n",
       "      <th>2</th>\n",
       "      <td>3</td>\n",
       "      <td>The Dark Knight</td>\n",
       "      <td>2008</td>\n",
       "      <td>2h 32m</td>\n",
       "      <td>9.0</td>\n",
       "    </tr>\n",
       "    <tr>\n",
       "      <th>3</th>\n",
       "      <td>4</td>\n",
       "      <td>The Godfather Part II</td>\n",
       "      <td>1974</td>\n",
       "      <td>3h 22m</td>\n",
       "      <td>9.0</td>\n",
       "    </tr>\n",
       "    <tr>\n",
       "      <th>4</th>\n",
       "      <td>5</td>\n",
       "      <td>12 Angry Men</td>\n",
       "      <td>1957</td>\n",
       "      <td>1h 36m</td>\n",
       "      <td>9.0</td>\n",
       "    </tr>\n",
       "  </tbody>\n",
       "</table>\n",
       "</div>"
      ],
      "text/plain": [
       "  Rank                       Name Release Year Movie Length IMDb Rating\n",
       "0    1   The Shawshank Redemption         1994       2h 22m         9.3\n",
       "1    2              The Godfather         1972       2h 55m         9.2\n",
       "2    3            The Dark Knight         2008       2h 32m         9.0\n",
       "3    4      The Godfather Part II         1974       3h 22m         9.0\n",
       "4    5               12 Angry Men         1957       1h 36m         9.0"
      ]
     },
     "execution_count": 134,
     "metadata": {},
     "output_type": "execute_result"
    }
   ],
   "source": [
    "df.head()"
   ]
  },
  {
   "cell_type": "code",
   "execution_count": 136,
   "metadata": {},
   "outputs": [],
   "source": [
    "df.to_csv('/workspaces/codespaces-jupyter/data/IMDb Top 250 Movies.csv', index=False)"
   ]
  }
 ],
 "metadata": {
  "kernelspec": {
   "display_name": "Python 3",
   "language": "python",
   "name": "python3"
  },
  "language_info": {
   "codemirror_mode": {
    "name": "ipython",
    "version": 3
   },
   "file_extension": ".py",
   "mimetype": "text/x-python",
   "name": "python",
   "nbconvert_exporter": "python",
   "pygments_lexer": "ipython3",
   "version": "3.10.13"
  }
 },
 "nbformat": 4,
 "nbformat_minor": 2
}
